{
 "cells": [
  {
   "cell_type": "code",
   "execution_count": 30,
   "metadata": {},
   "outputs": [
    {
     "name": "stdout",
     "output_type": "stream",
     "text": [
      "Requirement already satisfied: openai in c:\\users\\adrianthomspon\\anaconda3\\envs\\python39\\lib\\site-packages (0.28.1)\n",
      "Requirement already satisfied: ipywidgets in c:\\users\\adrianthomspon\\anaconda3\\envs\\python39\\lib\\site-packages (8.1.1)\n",
      "Requirement already satisfied: tqdm in c:\\users\\adrianthomspon\\anaconda3\\envs\\python39\\lib\\site-packages (from openai) (4.66.1)\n",
      "Requirement already satisfied: aiohttp in c:\\users\\adrianthomspon\\anaconda3\\envs\\python39\\lib\\site-packages (from openai) (3.8.6)\n",
      "Requirement already satisfied: requests>=2.20 in c:\\users\\adrianthomspon\\anaconda3\\envs\\python39\\lib\\site-packages (from openai) (2.30.0)\n",
      "Requirement already satisfied: comm>=0.1.3 in c:\\users\\adrianthomspon\\anaconda3\\envs\\python39\\lib\\site-packages (from ipywidgets) (0.1.3)\n",
      "Requirement already satisfied: traitlets>=4.3.1 in c:\\users\\adrianthomspon\\anaconda3\\envs\\python39\\lib\\site-packages (from ipywidgets) (5.9.0)\n",
      "Requirement already satisfied: widgetsnbextension~=4.0.9 in c:\\users\\adrianthomspon\\anaconda3\\envs\\python39\\lib\\site-packages (from ipywidgets) (4.0.9)\n",
      "Requirement already satisfied: ipython>=6.1.0 in c:\\users\\adrianthomspon\\anaconda3\\envs\\python39\\lib\\site-packages (from ipywidgets) (8.13.2)\n",
      "Requirement already satisfied: jupyterlab-widgets~=3.0.9 in c:\\users\\adrianthomspon\\anaconda3\\envs\\python39\\lib\\site-packages (from ipywidgets) (3.0.9)\n",
      "Requirement already satisfied: prompt-toolkit!=3.0.37,<3.1.0,>=3.0.30 in c:\\users\\adrianthomspon\\anaconda3\\envs\\python39\\lib\\site-packages (from ipython>=6.1.0->ipywidgets) (3.0.38)\n",
      "Requirement already satisfied: typing-extensions in c:\\users\\adrianthomspon\\anaconda3\\envs\\python39\\lib\\site-packages (from ipython>=6.1.0->ipywidgets) (4.5.0)\n",
      "Requirement already satisfied: matplotlib-inline in c:\\users\\adrianthomspon\\anaconda3\\envs\\python39\\lib\\site-packages (from ipython>=6.1.0->ipywidgets) (0.1.6)\n",
      "Requirement already satisfied: jedi>=0.16 in c:\\users\\adrianthomspon\\anaconda3\\envs\\python39\\lib\\site-packages (from ipython>=6.1.0->ipywidgets) (0.18.2)\n",
      "Requirement already satisfied: pygments>=2.4.0 in c:\\users\\adrianthomspon\\anaconda3\\envs\\python39\\lib\\site-packages (from ipython>=6.1.0->ipywidgets) (2.15.1)\n",
      "Requirement already satisfied: backcall in c:\\users\\adrianthomspon\\anaconda3\\envs\\python39\\lib\\site-packages (from ipython>=6.1.0->ipywidgets) (0.2.0)\n",
      "Requirement already satisfied: colorama in c:\\users\\adrianthomspon\\anaconda3\\envs\\python39\\lib\\site-packages (from ipython>=6.1.0->ipywidgets) (0.4.6)\n",
      "Requirement already satisfied: pickleshare in c:\\users\\adrianthomspon\\anaconda3\\envs\\python39\\lib\\site-packages (from ipython>=6.1.0->ipywidgets) (0.7.5)\n",
      "Requirement already satisfied: decorator in c:\\users\\adrianthomspon\\anaconda3\\envs\\python39\\lib\\site-packages (from ipython>=6.1.0->ipywidgets) (5.1.1)\n",
      "Requirement already satisfied: stack-data in c:\\users\\adrianthomspon\\anaconda3\\envs\\python39\\lib\\site-packages (from ipython>=6.1.0->ipywidgets) (0.6.2)\n",
      "Requirement already satisfied: idna<4,>=2.5 in c:\\users\\adrianthomspon\\anaconda3\\envs\\python39\\lib\\site-packages (from requests>=2.20->openai) (3.4)\n",
      "Requirement already satisfied: urllib3<3,>=1.21.1 in c:\\users\\adrianthomspon\\anaconda3\\envs\\python39\\lib\\site-packages (from requests>=2.20->openai) (1.26.15)\n",
      "Requirement already satisfied: charset-normalizer<4,>=2 in c:\\users\\adrianthomspon\\anaconda3\\envs\\python39\\lib\\site-packages (from requests>=2.20->openai) (3.1.0)\n",
      "Requirement already satisfied: certifi>=2017.4.17 in c:\\users\\adrianthomspon\\anaconda3\\envs\\python39\\lib\\site-packages (from requests>=2.20->openai) (2023.5.7)\n",
      "Requirement already satisfied: aiosignal>=1.1.2 in c:\\users\\adrianthomspon\\anaconda3\\envs\\python39\\lib\\site-packages (from aiohttp->openai) (1.3.1)\n",
      "Requirement already satisfied: async-timeout<5.0,>=4.0.0a3 in c:\\users\\adrianthomspon\\anaconda3\\envs\\python39\\lib\\site-packages (from aiohttp->openai) (4.0.3)\n",
      "Requirement already satisfied: frozenlist>=1.1.1 in c:\\users\\adrianthomspon\\anaconda3\\envs\\python39\\lib\\site-packages (from aiohttp->openai) (1.4.0)\n",
      "Requirement already satisfied: attrs>=17.3.0 in c:\\users\\adrianthomspon\\anaconda3\\envs\\python39\\lib\\site-packages (from aiohttp->openai) (23.1.0)\n",
      "Requirement already satisfied: multidict<7.0,>=4.5 in c:\\users\\adrianthomspon\\anaconda3\\envs\\python39\\lib\\site-packages (from aiohttp->openai) (6.0.4)\n",
      "Requirement already satisfied: yarl<2.0,>=1.0 in c:\\users\\adrianthomspon\\anaconda3\\envs\\python39\\lib\\site-packages (from aiohttp->openai) (1.9.2)\n",
      "Requirement already satisfied: parso<0.9.0,>=0.8.0 in c:\\users\\adrianthomspon\\anaconda3\\envs\\python39\\lib\\site-packages (from jedi>=0.16->ipython>=6.1.0->ipywidgets) (0.8.3)\n",
      "Requirement already satisfied: wcwidth in c:\\users\\adrianthomspon\\anaconda3\\envs\\python39\\lib\\site-packages (from prompt-toolkit!=3.0.37,<3.1.0,>=3.0.30->ipython>=6.1.0->ipywidgets) (0.2.6)\n",
      "Requirement already satisfied: pure-eval in c:\\users\\adrianthomspon\\anaconda3\\envs\\python39\\lib\\site-packages (from stack-data->ipython>=6.1.0->ipywidgets) (0.2.2)\n",
      "Requirement already satisfied: executing>=1.2.0 in c:\\users\\adrianthomspon\\anaconda3\\envs\\python39\\lib\\site-packages (from stack-data->ipython>=6.1.0->ipywidgets) (1.2.0)\n",
      "Requirement already satisfied: asttokens>=2.1.0 in c:\\users\\adrianthomspon\\anaconda3\\envs\\python39\\lib\\site-packages (from stack-data->ipython>=6.1.0->ipywidgets) (2.2.1)\n",
      "Requirement already satisfied: six in c:\\users\\adrianthomspon\\anaconda3\\envs\\python39\\lib\\site-packages (from asttokens>=2.1.0->stack-data->ipython>=6.1.0->ipywidgets) (1.16.0)\n",
      "Note: you may need to restart the kernel to use updated packages.\n"
     ]
    }
   ],
   "source": [
    "pip install --upgrade openai ipywidgets\n"
   ]
  },
  {
   "cell_type": "code",
   "execution_count": 31,
   "metadata": {},
   "outputs": [
    {
     "name": "stdout",
     "output_type": "stream",
     "text": [
      "{\n",
      "  \"role\": \"assistant\",\n",
      "  \"content\": \"Your name is Adrian.\"\n",
      "}\n",
      "Your name is Adrian.\n"
     ]
    }
   ],
   "source": [
    "import os\n",
    "import json\n",
    "import openai\n",
    "import ipywidgets as widgets\n",
    "from IPython.display import display, clear_output, Markdown\n",
    "\n",
    "\n",
    "os.environ['OPENAI_API_KEY'] = ''\n",
    "\n",
    "openai.api_key = os.getenv(\"OPENAI_API_KEY\")\n",
    "\n",
    "\n",
    "\n",
    "def chat_with_gpt(\n",
    "    messages, model=\"gpt-3.5-turbo\", top_p=1, frequency_penalty=0, presence_penalty=0,temperature=0\n",
    "):\n",
    "    try:\n",
    "        response = openai.ChatCompletion.create(\n",
    "            model=model,\n",
    "            messages=messages,\n",
    "            top_p=top_p,\n",
    "            frequency_penalty=frequency_penalty,\n",
    "            presence_penalty=presence_penalty,\n",
    "            temperature=temperature\n",
    "        )\n",
    "        print(str(response.choices[0].message))\n",
    "        return response.choices[0].message[\"content\"]\n",
    "        #return response\n",
    "    except Exception as e:\n",
    "        return str(e)\n",
    "\n",
    "    \n",
    "messages =  [  \n",
    "{'role':'system', 'content':'You are travel agency chatbot.'},\n",
    "{'role':'user', 'content':'Hi, my name is Adrian'},\n",
    "{'role':'assistant', 'content': \"Hi Adrian! \\\n",
    "Is there anything I can help you with today?\"},\n",
    "{'role':'user', 'content':'Yes, you can remind me, What is my name?'}  ]\n",
    "\n",
    "\n",
    "    \n",
    "# Example usage\n",
    "response = chat_with_gpt(\n",
    "    messages,\n",
    "    model=\"gpt-3.5-turbo\",\n",
    "    top_p=0.9,\n",
    "    frequency_penalty=-0.5,\n",
    "    presence_penalty=0.6,\n",
    "    temperature=1\n",
    ")\n",
    "#print(str(response.choices[0].message))\n",
    "#print(response)"
   ]
  },
  {
   "cell_type": "code",
   "execution_count": 32,
   "metadata": {
    "scrolled": true
   },
   "outputs": [
    {
     "data": {
      "application/vnd.jupyter.widget-view+json": {
       "model_id": "26d0993d59a74466866e4668914900f3",
       "version_major": 2,
       "version_minor": 0
      },
      "text/plain": [
       "VBox(children=(Text(value='Hi', placeholder='Enter text here…'), Button(description='Chat!', style=ButtonStyle…"
      ]
     },
     "metadata": {},
     "output_type": "display_data"
    }
   ],
   "source": [
    "import os\n",
    "import json\n",
    "import openai\n",
    "import ipywidgets as widgets\n",
    "from IPython.display import display, clear_output, Markdown\n",
    "\n",
    "with open('booking.json', 'r') as f:\n",
    "    booking = json.load(f)\n",
    "\n",
    "os.environ['OPENAI_API_KEY'] = ''\n",
    "\n",
    "openai.api_key = os.getenv(\"OPENAI_API_KEY\")\n",
    "\n",
    "def chat_with_gpt(\n",
    "    messages, model=\"gpt-3.5-turbo\", top_p=1, frequency_penalty=0, presence_penalty=0,temperature=0\n",
    "):\n",
    "    try:\n",
    "        response = openai.ChatCompletion.create(\n",
    "            model=model,\n",
    "            messages=messages,\n",
    "            top_p=top_p,\n",
    "            frequency_penalty=frequency_penalty,\n",
    "            presence_penalty=presence_penalty,\n",
    "            temperature=temperature\n",
    "        )\n",
    "        #print(str(response.choices[0].message))\n",
    "        return response.choices[0].message[\"content\"]\n",
    "        \n",
    "    except Exception as e:\n",
    "        return str(e)\n",
    "\n",
    "# Create chat input and button widgets\n",
    "inp = widgets.Text(value=\"Hi\", placeholder='Enter text here…')\n",
    "chat_button = widgets.Button(description=\"Chat!\")\n",
    "\n",
    "# Output widget to display the interactive conversation\n",
    "output = widgets.Output()\n",
    "system_content = f\"You are Shelley an automated travel assistant to answer questions about a customers holiday, \\\n",
    "start by greeting them by their first name and asking them how you can help with their holiday \\\n",
    "mention where they are going \\\n",
    "This customers holiday details are here: \\\n",
    "{booking}\"\n",
    "\n",
    "context = [{'role':'system', 'content':system_content}]\n",
    "\n",
    "panels = []\n",
    "\n",
    "def collect_messages(change):\n",
    "    # Get the user input from the text input widget\n",
    "    prompt = inp.value\n",
    "    \n",
    "    # Clear the text input widget\n",
    "    inp.value = ''\n",
    "    \n",
    "    # Update the context with the user's message\n",
    "    context.append({'role':'user', 'content': f\"{prompt}\"})\n",
    "    \n",
    "    # Get the assistant's response \n",
    "    response = chat_with_gpt(context)\n",
    "    \n",
    "    # Update the context with the assistant's response\n",
    "    context.append({'role':'assistant', 'content': f\"{response}\"})\n",
    "    \n",
    "    # Create Markdown widgets for the user's message and assistant's response\n",
    "    user_message = widgets.Output()\n",
    "    with user_message:\n",
    "        display(Markdown(f'**User:** {prompt}'))\n",
    "    \n",
    "    assistant_message = widgets.Output()\n",
    "    with assistant_message:\n",
    "        display(Markdown(f'**Assistant:** {response}'))\n",
    "    \n",
    "    # Append the new messages to the panels list\n",
    "    panels.extend([user_message, assistant_message])\n",
    "    \n",
    "    # Clear the previous output and display the updated conversation\n",
    "    with output:\n",
    "        clear_output()\n",
    "        for panel in panels:\n",
    "            display(panel)\n",
    "\n",
    "# Bind the button click event to the collect_messages function\n",
    "chat_button.on_click(collect_messages)\n",
    "\n",
    "# Create the dashboard layout\n",
    "dashboard = widgets.VBox([inp, chat_button, output])\n",
    "\n",
    "# Display the dashboard\n",
    "display(dashboard)\n",
    "\n"
   ]
  },
  {
   "cell_type": "code",
   "execution_count": null,
   "metadata": {
    "scrolled": true
   },
   "outputs": [],
   "source": []
  },
  {
   "cell_type": "code",
   "execution_count": null,
   "metadata": {},
   "outputs": [],
   "source": []
  },
  {
   "cell_type": "code",
   "execution_count": null,
   "metadata": {},
   "outputs": [],
   "source": []
  }
 ],
 "metadata": {
  "kernelspec": {
   "display_name": "Python 3 (ipykernel)",
   "language": "python",
   "name": "python3"
  },
  "language_info": {
   "codemirror_mode": {
    "name": "ipython",
    "version": 3
   },
   "file_extension": ".py",
   "mimetype": "text/x-python",
   "name": "python",
   "nbconvert_exporter": "python",
   "pygments_lexer": "ipython3",
   "version": "3.9.16"
  }
 },
 "nbformat": 4,
 "nbformat_minor": 2
}
